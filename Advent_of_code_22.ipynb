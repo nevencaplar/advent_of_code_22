{
 "cells": [
  {
   "cell_type": "code",
   "execution_count": 69,
   "id": "a3a45dc5",
   "metadata": {},
   "outputs": [],
   "source": [
    "import pandas as pd\n",
    "import numpy as np\n",
    "\n",
    "\n",
    "DATA_DIR = '/Users/nevencaplar/Documents/Small/advent_of_code_22/'\n",
    "df = pd.read_table(DATA_DIR + 'input.txt',\n",
    "                   sep='\\s+', header=None, skip_blank_lines = False)\n",
    "df.columns = ['calories']\n",
    "inx_break = df.index[df.isnull().values.ravel()]\n"
   ]
  },
  {
   "cell_type": "code",
   "execution_count": 71,
   "id": "188f03da",
   "metadata": {},
   "outputs": [
    {
     "name": "stdout",
     "output_type": "stream",
     "text": [
      "max cal: 69693\n"
     ]
    }
   ],
   "source": [
    "cal_per_elf=[]\n",
    "for i in range(0,len(inx_break)-1):\n",
    "    if i==0:\n",
    "        cal_per_elf.append(df.loc[inx_break[i]:inx_break[i+1]-1].sum().values[0])\n",
    "    else:\n",
    "        cal_per_elf.append(df.loc[inx_break[i]+1:inx_break[i+1]-1].sum().values[0])\n",
    "cal_per_elf = np.array(cal_per_elf).astype(int)\n",
    "\n",
    "top_cal = np.max(cal_per_elf)\n",
    "print('max cal: ' +str(top_cal))"
   ]
  },
  {
   "cell_type": "code",
   "execution_count": 72,
   "id": "f7f3e318",
   "metadata": {},
   "outputs": [
    {
     "name": "stdout",
     "output_type": "stream",
     "text": [
      "cal_top3: 200945\n"
     ]
    }
   ],
   "source": [
    "cal_top3 = np.sum(np.sort(cal_per_elf)[-3:])\n",
    "print('cal_top3: ' +str(cal_top3))"
   ]
  },
  {
   "cell_type": "code",
   "execution_count": null,
   "id": "d9cbddfb",
   "metadata": {},
   "outputs": [],
   "source": []
  }
 ],
 "metadata": {
  "kernelspec": {
   "display_name": "Python 3 (ipykernel)",
   "language": "python",
   "name": "python3"
  },
  "language_info": {
   "codemirror_mode": {
    "name": "ipython",
    "version": 3
   },
   "file_extension": ".py",
   "mimetype": "text/x-python",
   "name": "python",
   "nbconvert_exporter": "python",
   "pygments_lexer": "ipython3",
   "version": "3.10.4"
  }
 },
 "nbformat": 4,
 "nbformat_minor": 5
}
